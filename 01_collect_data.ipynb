{
 "cells": [
  {
   "cell_type": "code",
   "execution_count": 1,
   "id": "b59ef8fd",
   "metadata": {},
   "outputs": [],
   "source": [
    "import json\n",
    "import tweepy as tw"
   ]
  },
  {
   "cell_type": "code",
   "execution_count": 2,
   "id": "50c06462",
   "metadata": {},
   "outputs": [],
   "source": [
    "import config_twitter"
   ]
  },
  {
   "cell_type": "code",
   "execution_count": 3,
   "id": "7ded247a",
   "metadata": {},
   "outputs": [],
   "source": [
    "def connect_api_client():\n",
    "    auth = tw.OAuthHandler(config_twitter.consumer_key, config_twitter.consumer_secret)\n",
    "    auth.set_access_token(config_twitter.access_token, config_twitter.access_token_secret)\n",
    "    api = tw.API(auth, wait_on_rate_limit=True)\n",
    "    try:\n",
    "        api.verify_credentials()\n",
    "        user = api.verify_credentials()\n",
    "        if not user:\n",
    "            raise(\"Credentials could not be verified: Please check config.py\")\n",
    "        print(f\"Connected to Twitter API as {user.name}\")\n",
    "    except Exception as e:\n",
    "        raise e\n",
    "    return api"
   ]
  },
  {
   "cell_type": "code",
   "execution_count": 4,
   "id": "8cea8b14",
   "metadata": {},
   "outputs": [
    {
     "name": "stdout",
     "output_type": "stream",
     "text": [
      "Connected to Twitter API as hiro\n"
     ]
    }
   ],
   "source": [
    "api = connect_api_client()"
   ]
  },
  {
   "cell_type": "code",
   "execution_count": 5,
   "id": "9e6db275",
   "metadata": {},
   "outputs": [],
   "source": [
    "keyword = \"telecommunication\" \n",
    "query = '\"verizon\" OR \"Verizon\" OR \"AT&T\" OR \"ATT\" OR \"att\" OR \"t-mobile\" OR \"T-mobile\" OR \"T-Mobile\" OR \"TMobile\" OR \"tmobile\" -filter:retweets'\n"
   ]
  },
  {
   "cell_type": "code",
   "execution_count": 6,
   "id": "7360dc42",
   "metadata": {},
   "outputs": [],
   "source": [
    "ntweets = 100000"
   ]
  },
  {
   "cell_type": "code",
   "execution_count": 7,
   "id": "90f6b88e",
   "metadata": {},
   "outputs": [
    {
     "name": "stderr",
     "output_type": "stream",
     "text": [
      "Rate limit reached. Sleeping for: 736\n",
      "Rate limit reached. Sleeping for: 840\n",
      "Rate limit reached. Sleeping for: 839\n",
      "Rate limit reached. Sleeping for: 849\n",
      "Rate limit reached. Sleeping for: 850\n",
      "Rate limit reached. Sleeping for: 851\n",
      "Rate limit reached. Sleeping for: 850\n",
      "Rate limit reached. Sleeping for: 851\n",
      "Rate limit reached. Sleeping for: 852\n",
      "Rate limit reached. Sleeping for: 852\n",
      "Rate limit reached. Sleeping for: 851\n",
      "Rate limit reached. Sleeping for: 853\n",
      "Rate limit reached. Sleeping for: 853\n",
      "Rate limit reached. Sleeping for: 850\n",
      "Rate limit reached. Sleeping for: 851\n",
      "Rate limit reached. Sleeping for: 851\n",
      "Rate limit reached. Sleeping for: 849\n",
      "Rate limit reached. Sleeping for: 851\n"
     ]
    },
    {
     "data": {
      "text/plain": [
       "45217"
      ]
     },
     "execution_count": 7,
     "metadata": {},
     "output_type": "execute_result"
    }
   ],
   "source": [
    "tweets = [tweet._json for tweet in tw.Cursor(api.search_tweets, q=query, lang=\"en\", tweet_mode='extended').items(ntweets)]\n",
    "len(tweets)"
   ]
  },
  {
   "cell_type": "code",
   "execution_count": 8,
   "id": "32bbc3a2",
   "metadata": {},
   "outputs": [
    {
     "data": {
      "text/plain": [
       "{'created_at': 'Sat Jul 30 23:24:31 +0000 2022',\n",
       " 'id': 1553521953754927104,\n",
       " 'id_str': '1553521953754927104',\n",
       " 'full_text': 'IS VERIZON DYING?  AT&amp;T?  The media makes it seem that way | the wireless wars are far from over\\n\\n#tech #5G #news \\n\\nhttps://t.co/69LF79n1Gq via @YouTube @GrnEyeTechGirl @Techlife32',\n",
       " 'truncated': False,\n",
       " 'display_text_range': [0, 184],\n",
       " 'entities': {'hashtags': [{'text': 'tech', 'indices': [102, 107]},\n",
       "   {'text': '5G', 'indices': [108, 111]},\n",
       "   {'text': 'news', 'indices': [112, 117]}],\n",
       "  'symbols': [],\n",
       "  'user_mentions': [{'screen_name': 'YouTube',\n",
       "    'name': 'YouTube',\n",
       "    'id': 10228272,\n",
       "    'id_str': '10228272',\n",
       "    'indices': [148, 156]},\n",
       "   {'screen_name': 'GrnEyeTechGirl',\n",
       "    'name': 'GETG - GreenEyeTechGirl',\n",
       "    'id': 1529667138499117056,\n",
       "    'id_str': '1529667138499117056',\n",
       "    'indices': [157, 172]},\n",
       "   {'screen_name': 'Techlife32',\n",
       "    'name': 'Tech life Channel',\n",
       "    'id': 1456151868,\n",
       "    'id_str': '1456151868',\n",
       "    'indices': [173, 184]}],\n",
       "  'urls': [{'url': 'https://t.co/69LF79n1Gq',\n",
       "    'expanded_url': 'https://youtu.be/wZIcJ5avjOc',\n",
       "    'display_url': 'youtu.be/wZIcJ5avjOc',\n",
       "    'indices': [120, 143]}]},\n",
       " 'metadata': {'iso_language_code': 'en', 'result_type': 'recent'},\n",
       " 'source': '<a href=\"http://twitter.com/download/iphone\" rel=\"nofollow\">Twitter for iPhone</a>',\n",
       " 'in_reply_to_status_id': None,\n",
       " 'in_reply_to_status_id_str': None,\n",
       " 'in_reply_to_user_id': None,\n",
       " 'in_reply_to_user_id_str': None,\n",
       " 'in_reply_to_screen_name': None,\n",
       " 'user': {'id': 1277260214815752192,\n",
       "  'id_str': '1277260214815752192',\n",
       "  'name': 'The Techxtremist',\n",
       "  'screen_name': 'thetechxtremist',\n",
       "  'location': 'Phoenix, AZ',\n",
       "  'description': 'Love technology! Husband of @GrnEyeTechGirl #verizon #att #tmobile #technews #tech #wireless #google #news #linux #MacOS #ios #5G #LTE',\n",
       "  'url': 'https://t.co/LTLsWPr9QL',\n",
       "  'entities': {'url': {'urls': [{'url': 'https://t.co/LTLsWPr9QL',\n",
       "      'expanded_url': 'http://www.techxtremist.com',\n",
       "      'display_url': 'techxtremist.com',\n",
       "      'indices': [0, 23]}]},\n",
       "   'description': {'urls': []}},\n",
       "  'protected': False,\n",
       "  'followers_count': 921,\n",
       "  'friends_count': 235,\n",
       "  'listed_count': 7,\n",
       "  'created_at': 'Sun Jun 28 15:19:15 +0000 2020',\n",
       "  'favourites_count': 6374,\n",
       "  'utc_offset': None,\n",
       "  'time_zone': None,\n",
       "  'geo_enabled': True,\n",
       "  'verified': False,\n",
       "  'statuses_count': 11774,\n",
       "  'lang': None,\n",
       "  'contributors_enabled': False,\n",
       "  'is_translator': False,\n",
       "  'is_translation_enabled': False,\n",
       "  'profile_background_color': 'F5F8FA',\n",
       "  'profile_background_image_url': None,\n",
       "  'profile_background_image_url_https': None,\n",
       "  'profile_background_tile': False,\n",
       "  'profile_image_url': 'http://pbs.twimg.com/profile_images/1491987709237207040/_1KGTx6i_normal.jpg',\n",
       "  'profile_image_url_https': 'https://pbs.twimg.com/profile_images/1491987709237207040/_1KGTx6i_normal.jpg',\n",
       "  'profile_banner_url': 'https://pbs.twimg.com/profile_banners/1277260214815752192/1624526488',\n",
       "  'profile_link_color': '1DA1F2',\n",
       "  'profile_sidebar_border_color': 'C0DEED',\n",
       "  'profile_sidebar_fill_color': 'DDEEF6',\n",
       "  'profile_text_color': '333333',\n",
       "  'profile_use_background_image': True,\n",
       "  'has_extended_profile': True,\n",
       "  'default_profile': True,\n",
       "  'default_profile_image': False,\n",
       "  'following': False,\n",
       "  'follow_request_sent': False,\n",
       "  'notifications': False,\n",
       "  'translator_type': 'none',\n",
       "  'withheld_in_countries': []},\n",
       " 'geo': None,\n",
       " 'coordinates': None,\n",
       " 'place': None,\n",
       " 'contributors': None,\n",
       " 'is_quote_status': False,\n",
       " 'retweet_count': 0,\n",
       " 'favorite_count': 0,\n",
       " 'favorited': False,\n",
       " 'retweeted': False,\n",
       " 'possibly_sensitive': False,\n",
       " 'lang': 'en'}"
      ]
     },
     "execution_count": 8,
     "metadata": {},
     "output_type": "execute_result"
    }
   ],
   "source": [
    "tweets[0]"
   ]
  },
  {
   "cell_type": "code",
   "execution_count": 9,
   "id": "806ebea7",
   "metadata": {},
   "outputs": [],
   "source": [
    "file_out = f\"raw_tweet_data_{keyword}_{ntweets}.json\"\n",
    "with open(file_out, mode='w') as f:\n",
    "    f.write(json.dumps(tweets, indent=2))"
   ]
  }
 ],
 "metadata": {
  "kernelspec": {
   "display_name": "Python 3 (ipykernel)",
   "language": "python",
   "name": "python3"
  },
  "language_info": {
   "codemirror_mode": {
    "name": "ipython",
    "version": 3
   },
   "file_extension": ".py",
   "mimetype": "text/x-python",
   "name": "python",
   "nbconvert_exporter": "python",
   "pygments_lexer": "ipython3",
   "version": "3.9.12"
  },
  "vscode": {
   "interpreter": {
    "hash": "42911f5bab827a17aca3b4d49bfe0862ec638c2d64e1145f107984b437219907"
   }
  }
 },
 "nbformat": 4,
 "nbformat_minor": 5
}
